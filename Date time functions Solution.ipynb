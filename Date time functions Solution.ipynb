{
 "cells": [
  {
   "cell_type": "code",
   "execution_count": 1,
   "metadata": {},
   "outputs": [
    {
     "name": "stdout",
     "output_type": "stream",
     "text": [
      "12 Radian in Degree is : 687.54936\n",
      "30 Degree in Radian is : 5.235987\n"
     ]
    }
   ],
   "source": [
    "#1. Write a python program to convert radian into degrees and vice versa.\n",
    "def radian_degree(radian):\n",
    "    degree2 = radian*57.29578  #OR use radian*(180/3.147)\n",
    "    return degree2\n",
    "\n",
    "def degree_radian(degree):\n",
    "    radian2 =degree * 0.1745329 \n",
    "    return radian2\n",
    "\n",
    "radian=eval(input(\"Enter value in Radian\"))\n",
    "print(radian,\"Radian in Degree is :\",radian_degree(radian))\n",
    "\n",
    "degree = eval(input(\"Enter value in Degree :\"))\n",
    "print(degree,\"Degree in Radian is :\",degree_radian(degree))\n",
    "\n"
   ]
  },
  {
   "cell_type": "code",
   "execution_count": 2,
   "metadata": {},
   "outputs": [
    {
     "name": "stdout",
     "output_type": "stream",
     "text": [
      "Final price : 679.15\n"
     ]
    }
   ],
   "source": [
    "# DISCOUNT  as per price\n",
    "def discount(x,y):\n",
    "    final_price=x*(1-y/100)                   \n",
    "    return final_price\n",
    "\n",
    "price = int(input(\"enter price: \"))\n",
    "coupon = int(input(\"Enter discount in Percent :\"))\n",
    "print(\"Final price :\",discount(price,coupon))"
   ]
  },
  {
   "cell_type": "code",
   "execution_count": 3,
   "metadata": {},
   "outputs": [
    {
     "name": "stdout",
     "output_type": "stream",
     "text": [
      "Occurance of each letter in string: {'p': 2, 'y': 2, 't': 3, 'h': 1, 'o': 4, 'n': 2, 'j': 1, 'u': 1, 'e': 2, 'r': 1, 'b': 1, 'k': 1}\n"
     ]
    }
   ],
   "source": [
    "#2. Write a Python program to find the occurrence of each letter in the given\n",
    "# text. s = 'pythonjupyternotebook'\n",
    "\n",
    "s =str('pythonjupyternotebook')\n",
    "a = {}\n",
    "for letter in s:\n",
    "    if letter in a:\n",
    "        a[letter] += 1\n",
    "    else:\n",
    "        a[letter] = 1\n",
    "print(\"Occurance of each letter in string:\",str(a))                                     \n",
    "\n",
    "\n"
   ]
  },
  {
   "cell_type": "code",
   "execution_count": 4,
   "metadata": {},
   "outputs": [
    {
     "name": "stdout",
     "output_type": "stream",
     "text": [
      "random integers between 10 and 99\n",
      "which are divisible by 5 are: 10 50 10\n"
     ]
    }
   ],
   "source": [
    "#3. Write a python program to generate 3 random integers between 10 and 99\n",
    "#which is divisible by 5\n",
    "import random \n",
    "a=random.randrange(10,99,5)\n",
    "b = random.randrange(10,99,5)\n",
    "c = random.randrange(10,99,5)\n",
    "print(\"\"\"random integers between 10 and 99\n",
    "which are divisible by 5 are:\"\"\",a,b,c)"
   ]
  },
  {
   "cell_type": "code",
   "execution_count": 5,
   "metadata": {},
   "outputs": [
    {
     "name": "stdout",
     "output_type": "stream",
     "text": [
      "[('Red',), ('Green',), ('Blue',), ('Pink',), ('Red', 'Green'), ('Red', 'Blue'), ('Red', 'Pink'), ('Green', 'Blue'), ('Green', 'Pink'), ('Blue', 'Pink'), ('Red', 'Green', 'Blue'), ('Red', 'Green', 'Pink'), ('Red', 'Blue', 'Pink'), ('Green', 'Blue', 'Pink'), ('Red', 'Green', 'Blue', 'Pink')]\n"
     ]
    }
   ],
   "source": [
    "#4. Write a Python program to choose two colours from four different colours\n",
    "#and generate all the combinations with repetitions.\n",
    "\n",
    "import itertools\n",
    "\n",
    "def generate_combinations_itertools(nums):\n",
    "    result = []\n",
    "    n = len(nums)\n",
    "\n",
    "    for r in range(1, n+1):\n",
    "        combinations = itertools.combinations(nums, r)\n",
    "        result.extend(combinations)\n",
    "\n",
    "    return result\n",
    "\n",
    "test_list = [\"Red\",\"Green\",\"Blue\",\"Pink\"]\n",
    "print(generate_combinations_itertools(test_list))"
   ]
  },
  {
   "cell_type": "code",
   "execution_count": 6,
   "metadata": {},
   "outputs": [
    {
     "name": "stdout",
     "output_type": "stream",
     "text": [
      "y\n"
     ]
    }
   ],
   "source": [
    "# Write a python program to pick a random character from a given String\n",
    "import random\n",
    "name= \"pythonnotebook\"\n",
    "a=random.choice(name)\n",
    "print(a)"
   ]
  },
  {
   "cell_type": "code",
   "execution_count": 10,
   "metadata": {},
   "outputs": [
    {
     "name": "stdout",
     "output_type": "stream",
     "text": [
      "Current date : 2025-05-11 19:40:51.258395\n",
      "Date after adding days: 2025-05-16 19:40:51.258395\n"
     ]
    }
   ],
   "source": [
    "#6. Write a Python program to add five days from the current date.\n",
    "\n",
    "from datetime import datetime\n",
    "from datetime import timedelta\n",
    "\n",
    "current = datetime.now()\n",
    "added = current + timedelta(days=5)\n",
    "print(\"Current date :\",current)\n",
    "print(\"Date after adding days: {}\".format(added))"
   ]
  },
  {
   "cell_type": "code",
   "execution_count": 12,
   "metadata": {},
   "outputs": [
    {
     "name": "stdout",
     "output_type": "stream",
     "text": [
      "1461 days, 0:00:00\n"
     ]
    }
   ],
   "source": [
    "#8. Write a Python program to get days between two dates\n",
    "\n",
    "from datetime import date\n",
    "from datetime import timedelta\n",
    "\n",
    "d1 = date(2019,11,21)\n",
    "d2 = date(2023,11,21)\n",
    "days_between = d2 - d1\n",
    "print(days_between)"
   ]
  },
  {
   "cell_type": "code",
   "execution_count": 14,
   "metadata": {},
   "outputs": [
    {
     "name": "stdout",
     "output_type": "stream",
     "text": [
      "2022-03-09 00:00:00\n"
     ]
    }
   ],
   "source": [
    "# Converting string into Date format\n",
    "from datetime import datetime\n",
    "from datetime import timedelta\n",
    "\n",
    "D = \"9 Mar 2022\"\n",
    "T = datetime.strptime(D,\"%d %b %Y\")\n",
    "print(T)"
   ]
  },
  {
   "cell_type": "code",
   "execution_count": null,
   "metadata": {},
   "outputs": [],
   "source": []
  }
 ],
 "metadata": {
  "kernelspec": {
   "display_name": "Python 3",
   "language": "python",
   "name": "python3"
  },
  "language_info": {
   "codemirror_mode": {
    "name": "ipython",
    "version": 3
   },
   "file_extension": ".py",
   "mimetype": "text/x-python",
   "name": "python",
   "nbconvert_exporter": "python",
   "pygments_lexer": "ipython3",
   "version": "3.12.4"
  }
 },
 "nbformat": 4,
 "nbformat_minor": 2
}
